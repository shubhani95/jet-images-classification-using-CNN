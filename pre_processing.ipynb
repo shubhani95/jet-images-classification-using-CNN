{
 "cells": [
  {
   "cell_type": "markdown",
   "id": "5f14317b",
   "metadata": {},
   "source": [
    "# Notebook for pre-processing the events to create jet images"
   ]
  },
  {
   "cell_type": "markdown",
   "id": "1dd34fc9",
   "metadata": {},
   "source": [
    "Series of functions"
   ]
  },
  {
   "cell_type": "code",
   "execution_count": 1,
   "id": "3d892b29",
   "metadata": {},
   "outputs": [
    {
     "name": "stderr",
     "output_type": "stream",
     "text": [
      "2023-09-07 15:34:42.419175: I tensorflow/core/platform/cpu_feature_guard.cc:182] This TensorFlow binary is optimized to use available CPU instructions in performance-critical operations.\n",
      "To enable the following instructions: AVX2 FMA, in other operations, rebuild TensorFlow with the appropriate compiler flags.\n"
     ]
    }
   ],
   "source": [
    "import matplotlib.pyplot as plt\n",
    "import matplotlib as mpl\n",
    "import pandas as pd\n",
    "import math as m\n",
    "import os\n",
    "import numpy as np\n",
    "from progressbar import ProgressBar, Percentage, Bar\n",
    "import faulthandler\n",
    "faulthandler.enable()\n",
    "from copy import copy\n",
    "from skimage import transform\n",
    "import dask.array as da\n",
    "import h5py\n",
    "import tensorflow as tf\n",
    "from tensorflow import keras\n",
    "from tensorflow.keras import layers\n",
    "from tensorflow.keras.models import Sequential\n",
    "from tensorflow.keras.layers import Input,Dense, Flatten, Dropout, Activation, Conv2D, MaxPooling2D\n",
    "from sklearn.preprocessing import StandardScaler\n",
    "from tensorflow.keras.layers.experimental.preprocessing import Normalization\n",
    "from sklearn.model_selection import train_test_split\n",
    "from sklearn.metrics import accuracy_score, roc_auc_score, roc_curve, auc"
   ]
  },
  {
   "cell_type": "markdown",
   "id": "75959d39",
   "metadata": {},
   "source": [
    "Splitting each event and storing them into a dataframe"
   ]
  },
  {
   "cell_type": "code",
   "execution_count": 2,
   "id": "587a52d0",
   "metadata": {},
   "outputs": [],
   "source": [
    "def event_split_subjet(filename): \n",
    "    \"\"\"\n",
    "    Input: Jet constituent csv file from delphes macro\n",
    "    Output: List containing indices of each event\n",
    "    More efficient to only read in a single event into a dataframe at a time.\n",
    "    \"\"\"\n",
    "    file = open(filename).read().splitlines() \n",
    "    lines = [0]\n",
    "    for i in range(len(file)):\n",
    "        if file[i] == '0,0,0,0,0,0,0,0,0,0,0':\n",
    "            lines.append(i)\n",
    "    return lines"
   ]
  },
  {
   "cell_type": "code",
   "execution_count": 3,
   "id": "1b236e8c",
   "metadata": {},
   "outputs": [],
   "source": [
    "def event_split_leadingjet(filename): \n",
    "    \"\"\"\n",
    "    Input: Jet constituent csv file from delphes macro\n",
    "    Output: List containing indices of each event\n",
    "    More efficient to only read in a single event into a dataframe at a time.\n",
    "    \"\"\"\n",
    "    file = open(filename).read().splitlines() \n",
    "    lines = [0]\n",
    "    for i in range(len(file)):\n",
    "        if file[i] == '0,0,0,0,0,0':\n",
    "            lines.append(i)\n",
    "    return lines"
   ]
  },
  {
   "cell_type": "code",
   "execution_count": 4,
   "id": "4644307c",
   "metadata": {},
   "outputs": [],
   "source": [
    "def read_data_event_subjet(filename, event_num, event_lines):\n",
    "    \"\"\"\n",
    "    Read event from csv file, using event_split output to find specific event.\n",
    "    Return dataframe containing all particles in event, split into each jet they belong to\n",
    "    \"\"\"\n",
    "    cols = ['subjet_num', 'subjet_pt', 'subjet_m', 'subjet_eta', 'subjet_phi', 'part_num', \n",
    "            'part_pdg', 'part_pt', 'part_m', 'part_eta', 'part_phi']\n",
    "    # event_lines is list output from event_split\n",
    "    # read between nth event start line and n+1th event start line to read desired (nth) event only\n",
    "    event_start = event_lines[event_num-1]\n",
    "    event_end = event_lines[event_num]\n",
    "    nrows = event_end-event_start\n",
    "    # read event into pandas dataframe\n",
    "    df = pd.read_csv(filename,names=cols,skiprows=event_start,nrows=nrows)\n",
    "    # add event_count column, remove event split 0 rows and define ordered dataframe columns\n",
    "    df['event_count'] = event_num\n",
    "    #df = df.drop(df[(df.part_pdg == 2)].index)\n",
    "    #df.reset_index(drop=True, inplace=True)\n",
    "    df = df[['event_count', 'subjet_num', 'subjet_pt', 'subjet_m', 'subjet_eta', 'subjet_phi', 'part_num', \n",
    "             'part_pdg','part_pt', 'part_m', 'part_eta', 'part_phi']]\n",
    "    return df"
   ]
  },
  {
   "cell_type": "code",
   "execution_count": 5,
   "id": "601eda31",
   "metadata": {},
   "outputs": [],
   "source": [
    "def read_data_event_leadingjet(filename, event_num, event_lines):\n",
    "    \"\"\"\n",
    "    Read event from csv file, using event_split output to find specific event.\n",
    "    Return dataframe containing all particles in event, split into each jet they belong to\n",
    "    \"\"\"\n",
    "    cols = [ 'leadjet_const_num', 'leadjet_const_pdg', 'leadjet_const_pt', 'leadjet_const_m', \n",
    "            'leadjet_const_eta', 'leadjet_const_phi']\n",
    "    # event_lines is list output from event_split\n",
    "    # read between nth event start line and n+1th event start line to read desired (nth) event only\n",
    "    event_start = event_lines[event_num-1]\n",
    "    event_end = event_lines[event_num]\n",
    "    nrows = event_end-event_start\n",
    "    # read event into pandas dataframe\n",
    "    df = pd.read_csv(filename,names=cols,skiprows=event_start,nrows=nrows)\n",
    "    # add event_count column, remove event split 0 rows and define ordered dataframe columns\n",
    "    df['event_count'] = event_num\n",
    "    df = df.drop(df[(df.leadjet_const_pdg == 1)].index)\n",
    "    #df = df.drop(df[(df.leadjet_const_pdg == -1)].index)\n",
    "    df.reset_index(drop=True, inplace=True)\n",
    "    df = df[['event_count', 'leadjet_const_num', 'leadjet_const_pdg', 'leadjet_const_pt', 'leadjet_const_m', \n",
    "            'leadjet_const_eta', 'leadjet_const_phi']]\n",
    "    return df"
   ]
  },
  {
   "cell_type": "markdown",
   "id": "e9d4d20e",
   "metadata": {},
   "source": [
    "# Pre-processing Steps"
   ]
  },
  {
   "cell_type": "markdown",
   "id": "2e560e6f",
   "metadata": {},
   "source": [
    "1.Translation: Translate all leading jet/ trimmed jet constituents in η − φ space to put the leading subjet at the origin."
   ]
  },
  {
   "cell_type": "code",
   "execution_count": 6,
   "id": "6305c0d5",
   "metadata": {},
   "outputs": [],
   "source": [
    "def translate_jet(df_leadjet,df_subjet):\n",
    "    \"\"\"Translate constituents of leading jet and putting leading subjet at (eta, phi) = (0, 0).\n",
    "    \"\"\"\n",
    "    # Translate constituents of jet\n",
    "    df_leadjet['leadjet_const_eta'] -= df_subjet['subjet_eta'][0]\n",
    "    df_leadjet['leadjet_const_phi'] -= df_subjet['subjet_phi'][0]\n",
    "    # checking whether constituent phi is in [-pi, pi] range\n",
    "    df_leadjet['leadjet_const_phi'] = np.mod(df_leadjet['leadjet_const_phi'] + np.pi, 2*np.pi) - np.pi\n",
    "    # Translate sub-jets\n",
    "    df_subjet['subjet_eta'] -= df_subjet['subjet_eta'][0]\n",
    "    df_subjet['subjet_phi'] -= df_subjet['subjet_phi'][0]\n",
    "    # again checking whether subjet phi is in [-pi, pi] range\n",
    "    df_subjet['subjet_phi'] = np.mod(df_subjet['subjet_phi'] + np.pi, 2*np.pi) - np.pi"
   ]
  },
  {
   "cell_type": "markdown",
   "id": "49c1a50f",
   "metadata": {},
   "source": [
    "2. Get edges to contain all subjets and histograms of pt deposits"
   ]
  },
  {
   "cell_type": "code",
   "execution_count": 7,
   "id": "be42acb9",
   "metadata": {},
   "outputs": [],
   "source": [
    "def pixel_edges(leadingjet_size, pixel_grid, border):\n",
    "    \"\"\"Return pixel edges required to contain all the subjets.\n",
    "\n",
    "    border is interpreted as a fraction of the leaingjet_size\n",
    "    \"\"\"\n",
    "    image_edge = (1. + border) * leadingjet_size\n",
    "    return (np.arange(-image_edge, image_edge+pixel_grid[0], pixel_grid[0]),\n",
    "            np.arange(-image_edge, image_edge+pixel_grid[1], pixel_grid[1]))"
   ]
  },
  {
   "cell_type": "code",
   "execution_count": 8,
   "id": "5737eda5",
   "metadata": {},
   "outputs": [],
   "source": [
    "def pixel(df_leadjet, edges):\n",
    "    \"\"\"Return eta-phi histogram of transverse energy deposits.\n",
    "\n",
    "    Optionally set all instensities below cutoff to zero.\n",
    "    \"\"\"\n",
    "    jet_image, _, _ = np.histogram2d(df_leadjet['leadjet_const_eta'], df_leadjet['leadjet_const_phi'],\n",
    "                                 bins=(edges[0], edges[1]),weights=df_leadjet['leadjet_const_pt'])\n",
    "    return jet_image"
   ]
  },
  {
   "cell_type": "markdown",
   "id": "f6219d71",
   "metadata": {},
   "source": [
    "3. Rotation: Rotate the jet image to put the sub-leading subjet directly below the leading subjet. If no subjets are present for rotation, align the principle component of the jet image along the vertical axis."
   ]
  },
  {
   "cell_type": "code",
   "execution_count": 9,
   "id": "b85c14eb",
   "metadata": {},
   "outputs": [],
   "source": [
    "def rotate_jet_image(jet_image, df):\n",
    "    \"\"\"Return rotated and repixelised image array.\n",
    "    Rotation puts subleading subjet or first principle component at -pi/2.\n",
    "    \"\"\"\n",
    "    # Use sub-leading subject information to rotate\n",
    "    if len(df['subjet_num']) > 1:\n",
    "        theta = np.arctan2(df['subjet_phi'][1], df['subjet_eta'][1])\n",
    "        theta = -90.0-(theta*180.0/np.pi)\n",
    "        return transform.rotate(jet_image, theta, order=3)\n",
    "          \n",
    "    # Use principle component of image intensity to rotate\n",
    "    width, height = jet_image.shape\n",
    "    pix_coords = np.array([[i, j] for i in range(-width+1, width, 2)\n",
    "                           for j in range(-height+1, height, 2)])\n",
    "    covX = np.cov(pix_coords, aweights=np.reshape(jet_image, (width*height)),\n",
    "                  rowvar=0, bias=1)\n",
    "    e_vals, e_vecs = np.linalg.eigh(covX)\n",
    "    pc = e_vecs[:,-1]\n",
    "    theta = np.arctan2(pc[1], pc[0])\n",
    "    theta = -90.0-(theta*180.0/np.pi)\n",
    "    image = transform.rotate(jet_image, theta, order=3)\n",
    "    # Check orientation of principle component\n",
    "    pix_bot = np.sum(image[:, :-(-height//2)])\n",
    "    pix_top = np.sum(image[:, (height//2):])\n",
    "    if pix_top > pix_bot:\n",
    "        image = transform.rotate(image, 180.0, order=3)\n",
    "        theta += 180.0\n",
    "\n",
    "    \n",
    "    return image"
   ]
  },
  {
   "cell_type": "markdown",
   "id": "7b2cb15c",
   "metadata": {},
   "source": [
    "4. Reflect the jet image in the horizontal direction to put the third-leading subjet on the righthand side. If there are only two subjets reflect to ensure that the summed image intensity is highest on the right-hand side."
   ]
  },
  {
   "cell_type": "code",
   "execution_count": 10,
   "id": "2533aca9",
   "metadata": {},
   "outputs": [],
   "source": [
    "def reflect_image(image, df):\n",
    "    \"\"\"Return reflected image array.\n",
    "\n",
    "    Reflection puts subsubleading subjet or highest intensity on right side.\n",
    "    \"\"\"\n",
    "    width, height = image.shape\n",
    "    if len(df['subjet_num']) > 2:\n",
    "        # Use subsubleading subjet information to find parity\n",
    "        theta = np.arctan2(df['subjet_phi'][2], df['subjet_eta'][2])\n",
    "        theta = -(np.pi/2)-theta\n",
    "        parity = np.sign(np.cos(-theta)*df['subjet_eta'][2] +\n",
    "                         np.sin(-theta)*df['subjet_phi'][2])\n",
    "    else:\n",
    "        # Use intensity to find parity\n",
    "        pix_l = np.sum(image[:-(-width//2)].flatten())\n",
    "        pix_r = np.sum(image[(width//2):].flatten())\n",
    "        parity = np.sign(pix_r - pix_l)\n",
    "\n",
    "    if parity >= 0:\n",
    "        return image\n",
    "    t_image = np.array(image)\n",
    "    for i in range(width):\n",
    "        t_image[i] = image[-i-1]\n",
    "    return t_image"
   ]
  },
  {
   "cell_type": "markdown",
   "id": "62736232",
   "metadata": {},
   "source": [
    "5. Crop the jet image at 25×25 pixels and normalise pixel intensities to make the sum of their squares equal to one."
   ]
  },
  {
   "cell_type": "code",
   "execution_count": 11,
   "id": "d037932a",
   "metadata": {},
   "outputs": [],
   "source": [
    "def crop_normalise(image, out_width):\n",
    "    \"\"\"Return rescaled and cropped image.\n",
    "    \"\"\"\n",
    "    width, height = image.shape\n",
    "    out_height = int(np.rint(float(out_width * height) / width))\n",
    "    t_width = int(np.rint(out_width))\n",
    "    t_height = int(np.rint(out_height))\n",
    "    # crop\n",
    "    final_image= image[int((t_width - out_width) / 2):int((t_width + out_width) / 2), \n",
    "                       int((t_height - out_height) / 2):int((t_height + out_height) / 2)]\n",
    "    return final_image / np.sum(final_image**2)\n"
   ]
  },
  {
   "cell_type": "code",
   "execution_count": 12,
   "id": "b83e7703",
   "metadata": {},
   "outputs": [],
   "source": [
    "def preprocess(df_subjet, df_leadjet, rotate,reflect,out_width,normalize):\n",
    "    translate_jet(df_leadjet, df_subjet)\n",
    "    edges = pixel_edges(leadingjet_size=1.2, pixel_grid=(0.1, 0.1), border=0)\n",
    "    image = pixel(df_leadjet, edges)\n",
    "    if rotate:\n",
    "        image = rotate_jet_image(image,df_subjet)\n",
    "    if reflect:\n",
    "        image = reflect_image(image, df_subjet)\n",
    "    if normalize:\n",
    "        image = crop_normalise(image,out_width)\n",
    "    return image"
   ]
  },
  {
   "cell_type": "code",
   "execution_count": 23,
   "id": "eef45940",
   "metadata": {},
   "outputs": [],
   "source": [
    "def csv_plot_images(lead_in,subjet_in, n_events,output,npz_out):\n",
    "    # create the output file\n",
    "    image_size = 24\n",
    "    h5_output = h5py.File(output, 'w')\n",
    "    dset_images = h5_output.create_dataset('images',(n_events, image_size, image_size), dtype=np.double)\n",
    "    # create object to contain all jet images\n",
    "    jet_images = []\n",
    "    event_lines_lead = event_split_leadingjet(lead_in)\n",
    "    event_lines_subjet = event_split_subjet(subjet_in)\n",
    "    pbar = ProgressBar()\n",
    "    # loop over number of events (defined in function input)\n",
    "    for i in pbar(range(1,n_events)):\n",
    "        df_leadjet = read_data_event_leadingjet(lead_in, i, event_lines_lead)\n",
    "        if df_leadjet.empty == False:\n",
    "            df_sub = read_data_event_subjet(subjet_in, i, event_lines_subjet)\n",
    "            df_subjet = df_sub[['event_count', 'subjet_num', 'subjet_pt', 'subjet_m', 'subjet_eta', 'subjet_phi']].copy()\n",
    "            df_subjet = df_subjet.drop_duplicates(ignore_index=True)\n",
    "            images = preprocess(df_subjet, df_leadjet,rotate=True,reflect=True,out_width=25,normalize=True)\n",
    "            dset_images[i] = images\n",
    "            jet_images.append(images) \n",
    "    h5_output.close()\n",
    "    np.savez_compressed(npz_out, jet_images)\n",
    "    return jet_images"
   ]
  },
  {
   "cell_type": "code",
   "execution_count": 25,
   "id": "6484385d",
   "metadata": {},
   "outputs": [
    {
     "name": "stderr",
     "output_type": "stream",
     "text": [
      "100% |#########################################################################|\n"
     ]
    }
   ],
   "source": [
    "np.warnings.filterwarnings('ignore', category=np.VisibleDeprecationWarning) \n",
    "#np.seterr(divide='ignore', invalid='ignore')\n",
    "lead_in = \"delphesfatjet_ma5_signal_doublebtag_leadingbjet_new_constituent_withisr_mpi_r12_100k_info.csv\"\n",
    "subjet_in =\"delphesfatjet_ma5_signal_doublebtag_subjet04_new_constituents_withisr_mpi_r12_100k_info.csv\"\n",
    "output =\"new_signal_doubleb_neutral_fixedr_10k.h5\"\n",
    "jet_double_btag = csv_plot_images(lead_in,subjet_in, 10000,output,\"signal_10kevents_neutral_fixedr\")\n"
   ]
  },
  {
   "cell_type": "code",
   "execution_count": 26,
   "id": "718fe757",
   "metadata": {},
   "outputs": [],
   "source": [
    "def plot_jet_image(image,mode, vmin=1e-7, vmax=1e-2):\n",
    "    \"\"\"Display jet image.\n",
    "        #vmin=1e-9, vmax=1e-2 for event based images\n",
    "        #vmin=1e-6, vmax=300 or vmin=1e-6, vmax=1e-2 for average images\n",
    "    Args:\n",
    "        ax: matplotlib axes to plot on.\n",
    "        image: array representing image to plot.\n",
    "        vmin, vmax: min, max intensity values to plot.\n",
    "    \"\"\"\n",
    "    fig, ax = plt.subplots(figsize=(6, 6))\n",
    "    cmap = plt.cm.jet\n",
    "    norm=mpl.colors.LogNorm(vmin, vmax)\n",
    "    im = ax.imshow(image.T, extent=(-(2.5), 2.5, -(2.5), 2.5),origin='lower', norm=norm, cmap=cmap) \n",
    "    cbar = plt.colorbar(im, fraction=0.05, pad=0.05)\n",
    "    cbar.set_label('Normalised pT', rotation=270, labelpad=10)\n",
    "    plt.xlabel(r\"$\\eta$\")\n",
    "    plt.ylabel(r\"$\\phi$\")\n",
    "    plt.title(\"Average \"+ mode +\" image\")\n",
    "    plt.show()"
   ]
  },
  {
   "cell_type": "code",
   "execution_count": 27,
   "id": "35fdd9ba",
   "metadata": {},
   "outputs": [
    {
     "data": {
      "text/plain": [
       "array([[nan, nan, nan, nan, nan, nan, nan, nan, nan, nan, nan, nan, nan,\n",
       "        nan, nan, nan, nan, nan, nan, nan, nan, nan, nan, nan],\n",
       "       [nan, nan, nan, nan, nan, nan, nan, nan, nan, nan, nan, nan, nan,\n",
       "        nan, nan, nan, nan, nan, nan, nan, nan, nan, nan, nan],\n",
       "       [nan, nan, nan, nan, nan, nan, nan, nan, nan, nan, nan, nan, nan,\n",
       "        nan, nan, nan, nan, nan, nan, nan, nan, nan, nan, nan],\n",
       "       [nan, nan, nan, nan, nan, nan, nan, nan, nan, nan, nan, nan, nan,\n",
       "        nan, nan, nan, nan, nan, nan, nan, nan, nan, nan, nan],\n",
       "       [nan, nan, nan, nan, nan, nan, nan, nan, nan, nan, nan, nan, nan,\n",
       "        nan, nan, nan, nan, nan, nan, nan, nan, nan, nan, nan],\n",
       "       [nan, nan, nan, nan, nan, nan, nan, nan, nan, nan, nan, nan, nan,\n",
       "        nan, nan, nan, nan, nan, nan, nan, nan, nan, nan, nan],\n",
       "       [nan, nan, nan, nan, nan, nan, nan, nan, nan, nan, nan, nan, nan,\n",
       "        nan, nan, nan, nan, nan, nan, nan, nan, nan, nan, nan],\n",
       "       [nan, nan, nan, nan, nan, nan, nan, nan, nan, nan, nan, nan, nan,\n",
       "        nan, nan, nan, nan, nan, nan, nan, nan, nan, nan, nan],\n",
       "       [nan, nan, nan, nan, nan, nan, nan, nan, nan, nan, nan, nan, nan,\n",
       "        nan, nan, nan, nan, nan, nan, nan, nan, nan, nan, nan],\n",
       "       [nan, nan, nan, nan, nan, nan, nan, nan, nan, nan, nan, nan, nan,\n",
       "        nan, nan, nan, nan, nan, nan, nan, nan, nan, nan, nan],\n",
       "       [nan, nan, nan, nan, nan, nan, nan, nan, nan, nan, nan, nan, nan,\n",
       "        nan, nan, nan, nan, nan, nan, nan, nan, nan, nan, nan],\n",
       "       [nan, nan, nan, nan, nan, nan, nan, nan, nan, nan, nan, nan, nan,\n",
       "        nan, nan, nan, nan, nan, nan, nan, nan, nan, nan, nan],\n",
       "       [nan, nan, nan, nan, nan, nan, nan, nan, nan, nan, nan, nan, nan,\n",
       "        nan, nan, nan, nan, nan, nan, nan, nan, nan, nan, nan],\n",
       "       [nan, nan, nan, nan, nan, nan, nan, nan, nan, nan, nan, nan, nan,\n",
       "        nan, nan, nan, nan, nan, nan, nan, nan, nan, nan, nan],\n",
       "       [nan, nan, nan, nan, nan, nan, nan, nan, nan, nan, nan, nan, nan,\n",
       "        nan, nan, nan, nan, nan, nan, nan, nan, nan, nan, nan],\n",
       "       [nan, nan, nan, nan, nan, nan, nan, nan, nan, nan, nan, nan, nan,\n",
       "        nan, nan, nan, nan, nan, nan, nan, nan, nan, nan, nan],\n",
       "       [nan, nan, nan, nan, nan, nan, nan, nan, nan, nan, nan, nan, nan,\n",
       "        nan, nan, nan, nan, nan, nan, nan, nan, nan, nan, nan],\n",
       "       [nan, nan, nan, nan, nan, nan, nan, nan, nan, nan, nan, nan, nan,\n",
       "        nan, nan, nan, nan, nan, nan, nan, nan, nan, nan, nan],\n",
       "       [nan, nan, nan, nan, nan, nan, nan, nan, nan, nan, nan, nan, nan,\n",
       "        nan, nan, nan, nan, nan, nan, nan, nan, nan, nan, nan],\n",
       "       [nan, nan, nan, nan, nan, nan, nan, nan, nan, nan, nan, nan, nan,\n",
       "        nan, nan, nan, nan, nan, nan, nan, nan, nan, nan, nan],\n",
       "       [nan, nan, nan, nan, nan, nan, nan, nan, nan, nan, nan, nan, nan,\n",
       "        nan, nan, nan, nan, nan, nan, nan, nan, nan, nan, nan],\n",
       "       [nan, nan, nan, nan, nan, nan, nan, nan, nan, nan, nan, nan, nan,\n",
       "        nan, nan, nan, nan, nan, nan, nan, nan, nan, nan, nan],\n",
       "       [nan, nan, nan, nan, nan, nan, nan, nan, nan, nan, nan, nan, nan,\n",
       "        nan, nan, nan, nan, nan, nan, nan, nan, nan, nan, nan],\n",
       "       [nan, nan, nan, nan, nan, nan, nan, nan, nan, nan, nan, nan, nan,\n",
       "        nan, nan, nan, nan, nan, nan, nan, nan, nan, nan, nan]])"
      ]
     },
     "execution_count": 27,
     "metadata": {},
     "output_type": "execute_result"
    }
   ],
   "source": [
    "#read h5py file and plot event and average jet images\n",
    "data_signal = h5py.File('new_signal_doubleb_neutral_fixedr_10k.h5', 'r')\n",
    "#data_bbbb = h5py.File('new_bbbb_doubleb_fixedr_10k.h5', 'r')\n",
    "#data_ttbar = h5py.File('new_ttbar_doubleb_fixedr_10k.h5', 'r')\n",
    "#data_zbb = h5py.File('new_zbb_doubleb_fixedr_10k.h5', 'r')\n",
    "jet_images_sig = data_signal['images']\n",
    "#jet_images_bbbb = data_bbbb['images']\n",
    "#jet_images_ttbar = data_ttbar['images']\n",
    "#jet_images_zbb = data_zbb['images']\n",
    "avg_image_sig = np.mean(jet_images_sig,axis=0)\n",
    "#avg_image_bbbb = np.mean(jet_images_bbbb,axis=0)\n",
    "#avg_image_ttbar = np.mean(jet_images_ttbar,axis=0)\n",
    "#avg_image_zbb = np.mean(jet_images_zbb,axis=0)\n",
    "avg_image_sig"
   ]
  },
  {
   "cell_type": "code",
   "execution_count": 29,
   "id": "362bc6f1",
   "metadata": {},
   "outputs": [
    {
     "data": {
      "image/png": "[encoded data removed]",
      "text/plain": [
       "<Figure size 600x600 with 2 Axes>"
      ]
     },
     "metadata": {},
     "output_type": "display_data"
    }
   ],
   "source": [
    "\n",
    "plot_jet_image(jet_images_sig[7000],mode ='signal')\n",
    "\n",
    "#plot_jet_image(avg_image_signal_var,mode ='bbbb')\n",
    "\n",
    "#plot_jet_image(avg_image_ttbar,mode ='ttbar')\n",
    "\n",
    "#plot_jet_image(avg_image_zbb,mode ='zbb')\n"
   ]
  },
  {
   "cell_type": "code",
   "execution_count": 31,
   "id": "30bfb794",
   "metadata": {},
   "outputs": [
    {
     "data": {
      "text/plain": [
       "10499"
      ]
     },
     "execution_count": 31,
     "metadata": {},
     "output_type": "execute_result"
    }
   ],
   "source": [
    "signal_jet_images = np.load('signal_10500events_varr.npz')['arr_0']\n",
    "fourb_jet_images = np.load('bbbb_3500events_varr.npz')['arr_0']\n",
    "zbb_jet_images = np.load('zbb_3500events_varr.npz')['arr_0']\n",
    "ttbar_jet_images = np.load('ttbar_3500events_varr.npz')['arr_0']\n",
    "\n",
    "signal_jet_images.shape[0]"
   ]
  },
  {
   "cell_type": "code",
   "execution_count": 32,
   "id": "7d492b0a",
   "metadata": {},
   "outputs": [
    {
     "data": {
      "text/plain": [
       "(20996, 24, 24)"
      ]
     },
     "execution_count": 32,
     "metadata": {},
     "output_type": "execute_result"
    }
   ],
   "source": [
    "tot_jets = signal_jet_images.shape[0]+fourb_jet_images.shape[0]+zbb_jet_images.shape[0]+ttbar_jet_images.shape[0]\n",
    "\n",
    "X = np.concatenate([signal_jet_images, fourb_jet_images, zbb_jet_images, ttbar_jet_images])\n",
    "y = np.array([1]*len(signal_jet_images)+[0]*len(fourb_jet_images)+[0]*len(zbb_jet_images)+[0]*len(ttbar_jet_images))\n",
    "\n",
    "# normalise pts to 1\n",
    "X = X/X.max()\n",
    "\n",
    "X.shape"
   ]
  },
  {
   "cell_type": "code",
   "execution_count": 33,
   "id": "289c9ecc",
   "metadata": {},
   "outputs": [],
   "source": [
    "def create_model_cnn(X, y):\n",
    "    X = X.reshape(tot_jets,24,24,1)\n",
    "    #X = Input(shape=(X.shape[1:]))\n",
    "    y = keras.utils.to_categorical(y)\n",
    "    X_train, X_test, y_train, y_test = train_test_split(X, y, test_size=0.3, random_state=42)\n",
    "\n",
    "    model_cnn = Sequential()\n",
    "    model_cnn.add(Conv2D(32, (3, 3), input_shape=(24, 24, 1), activation='relu'))\n",
    "    model_cnn.add(Conv2D(32, (3, 3), activation='relu'))\n",
    "    model_cnn.add(MaxPooling2D(pool_size=(2, 2)))\n",
    "    model_cnn.add(Dropout(0.5))\n",
    "\n",
    "    model_cnn.add(Flatten())\n",
    "    model_cnn.add(Dense(128, activation='relu'))\n",
    "    model_cnn.add(Dropout(0.25))\n",
    "    model_cnn.add(Dense(2, activation='softmax'))\n",
    "    \n",
    "\n",
    "    model_cnn.compile(loss='categorical_crossentropy', optimizer='adam', metrics=['accuracy'])\n",
    "\n",
    "    history = model_cnn.fit(X_train, y_train, epochs=20, batch_size=32, shuffle=True, validation_split=0.3)\n",
    "\n",
    "    plt.plot(history.history['accuracy'],color='b',label='Accuracy')\n",
    "    plt.plot(history.history['val_accuracy'],color='b',ls='--',label='Val Acc')\n",
    "    plt.plot(history.history['loss'],color='r',label='Loss')\n",
    "    plt.plot(history.history['val_loss'],color='r',ls='--',label='Val Loss')\n",
    "    plt.legend(loc='best')\n",
    "    plt.title('Model Accuracy')\n",
    "    #plt.ylabel('Accuracy')\n",
    "    plt.xlabel('Epoch')\n",
    "    plt.show()\n",
    "    plt.close()\n",
    "\n",
    "    y_pred = model_cnn.predict(X_test)\n",
    "\n",
    "    # Plot model output for signal/background (0-1)\n",
    "    all_y = np.concatenate((y_pred, y_test),axis=1)\n",
    "    y_pred_sig = all_y[all_y[:,3]==1.,:]\n",
    "    y_pred_back = all_y[all_y[:,3]==0.,:]\n",
    "    y_pred_sig = y_pred_sig[:,1]\n",
    "    y_pred_back = y_pred_back[:,1]\n",
    "\n",
    "\n",
    "    #x = np.linspace(0, 1, 20)\n",
    "    plt.hist(y_pred_sig,bins=20,color='r',alpha=0.5,range=(0,1),label=r'Signal')\n",
    "    plt.hist(y_pred_back,bins=20,color='b',alpha=0.5,range=(0,1),label=r'Backgrounds')\n",
    "    #plt.hist(list(y_pred_sig),bins=20, range=(0,1), color='r', label=r'Signal', where='mid')\n",
    "    #plt.hist(list(y_pred_back),bins=20, range=(0,1), color='b', label=r'Background', where='mid')\n",
    "    plt.legend(loc='best', title=\"CNN Output Score\")\n",
    "    plt.show()\n",
    "\n",
    "\n",
    "    fpr, tpr, thresholds = roc_curve(y_test.ravel(), y_pred.ravel())\n",
    "\n",
    "    plt.plot(fpr, tpr, label='Area = {:.3f}'.format(auc(fpr, tpr)),color='b')\n",
    "    plt.plot([0, 1], [0, 1], ls='--', color='g', label='Random Classification')\n",
    "    plt.xlabel('False positive rate')\n",
    "    plt.ylabel('True positive rate')\n",
    "    plt.title('ROC curve')\n",
    "    plt.legend(loc='best')\n",
    "    plt.show()\n",
    "    plt.close()\n",
    "\n",
    "    # TODO: fix shape of y_test/y_pred so they are lists of [0,1] values\n",
    "    #print(\"F1-Score: \", f1_score(y_test, y_pred))\n",
    "\n",
    "    return True"
   ]
  },
  {
   "cell_type": "code",
   "execution_count": null,
   "id": "64fac18f",
   "metadata": {},
   "outputs": [
    {
     "name": "stdout",
     "output_type": "stream",
     "text": [
      "Epoch 1/20\n",
      "322/322 [==============================] - 9s 26ms/step - loss: 0.6444 - accuracy: 0.6394 - val_loss: 0.6307 - val_accuracy: 0.6485\n",
      "Epoch 2/20\n",
      "322/322 [==============================] - 9s 27ms/step - loss: 0.6091 - accuracy: 0.6826 - val_loss: 0.5853 - val_accuracy: 0.7007\n",
      "Epoch 3/20\n",
      "322/322 [==============================] - 9s 27ms/step - loss: 0.5897 - accuracy: 0.6979 - val_loss: 0.5881 - val_accuracy: 0.7086\n",
      "Epoch 4/20\n",
      "322/322 [==============================] - 8s 26ms/step - loss: 0.5837 - accuracy: 0.7007 - val_loss: 0.5762 - val_accuracy: 0.7000\n",
      "Epoch 5/20\n",
      "322/322 [==============================] - 9s 27ms/step - loss: 0.5710 - accuracy: 0.7144 - val_loss: 0.5583 - val_accuracy: 0.7138\n",
      "Epoch 6/20\n",
      "322/322 [==============================] - 8s 25ms/step - loss: 0.5630 - accuracy: 0.7140 - val_loss: 0.5484 - val_accuracy: 0.7231\n",
      "Epoch 7/20\n",
      "322/322 [==============================] - 9s 28ms/step - loss: 0.5553 - accuracy: 0.7192 - val_loss: 0.5503 - val_accuracy: 0.7388\n",
      "Epoch 8/20\n",
      "322/322 [==============================] - 8s 25ms/step - loss: 0.5487 - accuracy: 0.7261 - val_loss: 0.5339 - val_accuracy: 0.7401\n",
      "Epoch 9/20\n",
      "322/322 [==============================] - 9s 28ms/step - loss: 0.5396 - accuracy: 0.7320 - val_loss: 0.5344 - val_accuracy: 0.7356\n",
      "Epoch 10/20\n",
      "322/322 [==============================] - 9s 28ms/step - loss: 0.5342 - accuracy: 0.7392 - val_loss: 0.5437 - val_accuracy: 0.7274\n",
      "Epoch 11/20\n",
      "322/322 [==============================] - 9s 27ms/step - loss: 0.5333 - accuracy: 0.7403 - val_loss: 0.5300 - val_accuracy: 0.7458\n",
      "Epoch 12/20\n",
      "322/322 [==============================] - 8s 25ms/step - loss: 0.5261 - accuracy: 0.7466 - val_loss: 0.5222 - val_accuracy: 0.7488\n",
      "Epoch 13/20\n",
      "322/322 [==============================] - 8s 26ms/step - loss: 0.5193 - accuracy: 0.7504 - val_loss: 0.5168 - val_accuracy: 0.7535\n",
      "Epoch 14/20\n",
      "322/322 [==============================] - 8s 26ms/step - loss: 0.5160 - accuracy: 0.7525 - val_loss: 0.5172 - val_accuracy: 0.7535\n",
      "Epoch 15/20\n",
      "322/322 [==============================] - 9s 27ms/step - loss: 0.5074 - accuracy: 0.7576 - val_loss: 0.5183 - val_accuracy: 0.7506\n",
      "Epoch 16/20\n",
      "322/322 [==============================] - 9s 27ms/step - loss: 0.5056 - accuracy: 0.7582 - val_loss: 0.5149 - val_accuracy: 0.7537\n",
      "Epoch 17/20\n",
      "322/322 [==============================] - 9s 27ms/step - loss: 0.5021 - accuracy: 0.7595 - val_loss: 0.5199 - val_accuracy: 0.7542\n",
      "Epoch 18/20\n",
      "322/322 [==============================] - 8s 26ms/step - loss: 0.4954 - accuracy: 0.7687 - val_loss: 0.5141 - val_accuracy: 0.7490\n",
      "Epoch 19/20\n",
      "183/322 [================>.............] - ETA: 3s - loss: 0.4851 - accuracy: 0.7760"
     ]
    }
   ],
   "source": [
    "#20epochs\n",
    "create_model_cnn(X,y)"
   ]
  },
  {
   "cell_type": "code",
   "execution_count": null,
   "id": "c00e31bb",
   "metadata": {},
   "outputs": [],
   "source": []
  }
 ],
 "metadata": {
  "kernelspec": {
   "display_name": "Python 3 (ipykernel)",
   "language": "python",
   "name": "python3"
  },
  "language_info": {
   "codemirror_mode": {
    "name": "ipython",
    "version": 3
   },
   "file_extension": ".py",
   "mimetype": "text/x-python",
   "name": "python",
   "nbconvert_exporter": "python",
   "pygments_lexer": "ipython3",
   "version": "3.12.2"
  }
 },
 "nbformat": 4,
 "nbformat_minor": 5
}
